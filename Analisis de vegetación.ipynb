{
 "cells": [
  {
   "cell_type": "markdown",
   "id": "e28b48f6",
   "metadata": {},
   "source": [
    "# Mapa temático de deforestación"
   ]
  },
  {
   "cell_type": "markdown",
   "id": "059b2338",
   "metadata": {},
   "source": [
    "# 1. Autenticación de Google Earth Engine\n",
    "\n",
    "Se utiliza la API de Python de GEE para buscar y descargar imágenes del satélite Sentinel-2. \n",
    "`ee`: API de Google Earth Engine para Python, que permite acceder a colecciones de datos satelitales y ejecutar operaciones en la nube.  "
   ]
  },
  {
   "cell_type": "code",
   "execution_count": 7,
   "id": "55801a37",
   "metadata": {},
   "outputs": [],
   "source": [
    "# Importar biblioteca de Google Earth Engine\n",
    "import ee\n",
    "\n",
    "# Autenticación: Esto abre una ventana en el navegador solicitando acceso a cuenta Google\n",
    "ee.Authenticate()  \n",
    "# Inicializar la sesion de Earth Engine\n",
    "ee.Initialize()"
   ]
  },
  {
   "cell_type": "markdown",
   "id": "ff49154c",
   "metadata": {},
   "source": [
    "# 2. Importar paqueterías"
   ]
  },
  {
   "cell_type": "code",
   "execution_count": null,
   "id": "88ebfda0",
   "metadata": {},
   "outputs": [
    {
     "name": "stderr",
     "output_type": "stream",
     "text": [
      "C:\\Users\\zaira\\AppData\\Local\\Packages\\PythonSoftwareFoundation.Python.3.13_qbz5n2kfra8p0\\LocalCache\\local-packages\\Python313\\site-packages\\geemap\\conversion.py:23: UserWarning: pkg_resources is deprecated as an API. See https://setuptools.pypa.io/en/latest/pkg_resources.html. The pkg_resources package is slated for removal as early as 2025-11-30. Refrain from using this package or pin to Setuptools<81.\n",
      "  import pkg_resources\n"
     ]
    }
   ],
   "source": [
    "import geemap\n",
    "import ee_extra\n",
    "import math\n",
    "import geopandas as gpd\n",
    "import numpy as np\n",
    "import pandas as pd\n",
    "import matplotlib.pyplot as plt\n",
    "from matplotlib.colors import ListedColormap,BoundaryNorm\n",
    "from matplotlib.patches import Patch\n",
    "import rasterio\n",
    "import folium\n",
    "import json\n",
    "import os\n",
    "from shapely.geometry import mapping, Polygon, MultiPolygon"
   ]
  },
  {
   "cell_type": "markdown",
   "id": "9f552149",
   "metadata": {},
   "source": [
    "# 3. Definir polígono de interés\n",
    "\n",
    "En este bloque se establece la ruta local del **polígono de interés (area of interes, AOI)** desde un archivo en formato `.kml` o `.kmz`. \n",
    "\n",
    "✏️ Para trabajar con un nuevo polígono solo requiere reemplazar la ruta de la carpeta de trabajo \n"
   ]
  },
  {
   "cell_type": "code",
   "execution_count": 9,
   "id": "7bb0aee3",
   "metadata": {},
   "outputs": [
    {
     "data": {
      "text/html": [
       "\n",
       "            <style>\n",
       "                .geemap-dark {\n",
       "                    --jp-widgets-color: white;\n",
       "                    --jp-widgets-label-color: white;\n",
       "                    --jp-ui-font-color1: white;\n",
       "                    --jp-layout-color2: #454545;\n",
       "                    background-color: #383838;\n",
       "                }\n",
       "\n",
       "                .geemap-dark .jupyter-button {\n",
       "                    --jp-layout-color3: #383838;\n",
       "                }\n",
       "\n",
       "                .geemap-colab {\n",
       "                    background-color: var(--colab-primary-surface-color, white);\n",
       "                }\n",
       "\n",
       "                .geemap-colab .jupyter-button {\n",
       "                    --jp-layout-color3: var(--colab-primary-surface-color, white);\n",
       "                }\n",
       "            </style>\n",
       "            "
      ],
      "text/plain": [
       "<IPython.core.display.HTML object>"
      ]
     },
     "metadata": {},
     "output_type": "display_data"
    },
    {
     "name": "stdout",
     "output_type": "stream",
     "text": [
      "✅ Polígono cargado correctamente.\n"
     ]
    },
    {
     "data": {
      "application/vnd.jupyter.widget-view+json": {
       "model_id": "de9b2a87a2b44904b881ce320f4aeed2",
       "version_major": 2,
       "version_minor": 0
      },
      "text/plain": [
       "Map(center=[19.481693985330033, -97.87640471671325], controls=(WidgetControl(options=['position', 'transparent…"
      ]
     },
     "execution_count": 9,
     "metadata": {},
     "output_type": "execute_result"
    }
   ],
   "source": [
    "ruta_kml = r\"C:\\Users\\zaira\\OneDrive - Procuraduria Federal de Proteccion al Ambiente\\SIIVDA\\Codigos Phyton\\Deforestacion - Vegetacion\\Cabañas-Terrenate-Tlax_.kml\"\n",
    "\n",
    "# Verificar que el archivo existe\n",
    "if not os.path.exists(ruta_kml):\n",
    "    raise FileNotFoundError(f\"El archivo no fue encontrado: {ruta_kml}\")\n",
    "\n",
    "# Convertir el archivo KML a GeoJSON para cargarlo en Earth Engine\n",
    "gdf = gpd.read_file(ruta_kml, driver='KML')\n",
    "geojson = gdf.geometry[0].__geo_interface__\n",
    "aoi = ee.Geometry(geojson)\n",
    "aoi_feature = ee.Feature(aoi)\n",
    "aoi_fc = ee.FeatureCollection([aoi_feature])\n",
    "print(\"✅ Polígono cargado correctamente.\")\n",
    "\n",
    "\n",
    "# Visualizar el polígono en un mapa interactivo con imagen ESRI de fondo\n",
    "Map = geemap.Map(basemap='Esri.WorldImagery')\n",
    "Map.centerObject(aoi, zoom=16)\n",
    "style = {\n",
    "    'color': 'red',    # Color del contorno\n",
    "    'width': 3,        # Grosor de la línea\n",
    "    'fillColor': '00000000'  # Relleno transparente\n",
    "}\n",
    "Map.addLayer(aoi_fc.style(**style), {}, 'Contorno AOI (Rojo)')\n",
    "Map"
   ]
  },
  {
   "cell_type": "markdown",
   "id": "3f6bba9b",
   "metadata": {},
   "source": [
    "# 4. Estimación de NDVI (Normalized Difference Vegetation Index)\n",
    "\n",
    "El **NDVI** es un índice utilizado para el monitoreo de vegetación\n",
    "\n",
    "## Fórmula NDVI:\n",
    "\n",
    "$$\n",
    "NDVI = \\frac{(NIR - Red)}{(NIR + Red)}\n",
    "$$\n",
    "\n",
    "**Donde:**\n",
    "- *NIR*: Banda infrarroja cercana (Sentinel-2: **B8**)\n",
    "- *Red*: Banda roja (Sentinel-2: **B4**)\n",
    "\n",
    "---\n",
    "\n",
    "## Interpretación general:\n",
    "- **NDVI ≈ +1** → Vegetación densa y saludable \n",
    "- **NDVI ≈ 0** → Suelos desnudos o áreas sin vegetación \n",
    "- **NDVI < 0** → Cuerpos de agua, nubes u objetos no vegetales \n",
    "\n",
    "\n",
    "## Aplicaciones del NDVI:\n",
    "a) Clasificación de vegetación.  \n",
    "b) Monitoreo ambiental [(Jensen, 2000)](https://doi.org/10.1080/014311600210407).  \n",
    "c) Detección de estrés en cultivos y ecosistemas [(Wang et al., 2022)](https://doi.org/10.1016/j.gecco.2022.e02034).  \n",
    "d) Alerta temprana de plagas y enfermedades [(Spruce et al., 2011)](https://doi.org/10.1016/j.rse.2010.09.013).  \n",
    "e) Manejo de recursos hídricos [(Aguilar et al., 2012)](https://doi.org/10.1016/j.ecolind.2012.04.008).  \n",
    "f) Predicción y monitoreo de incendios forestales [(Charizanos & Demirhan, 2023)](https://doi.org/10.1016/j.ecoinf.2022.101899).\n",
    "\n",
    "\n"
   ]
  },
  {
   "cell_type": "code",
   "execution_count": 10,
   "id": "49476b92",
   "metadata": {},
   "outputs": [
    {
     "data": {
      "text/html": [
       "\n",
       "            <style>\n",
       "                .geemap-dark {\n",
       "                    --jp-widgets-color: white;\n",
       "                    --jp-widgets-label-color: white;\n",
       "                    --jp-ui-font-color1: white;\n",
       "                    --jp-layout-color2: #454545;\n",
       "                    background-color: #383838;\n",
       "                }\n",
       "\n",
       "                .geemap-dark .jupyter-button {\n",
       "                    --jp-layout-color3: #383838;\n",
       "                }\n",
       "\n",
       "                .geemap-colab {\n",
       "                    background-color: var(--colab-primary-surface-color, white);\n",
       "                }\n",
       "\n",
       "                .geemap-colab .jupyter-button {\n",
       "                    --jp-layout-color3: var(--colab-primary-surface-color, white);\n",
       "                }\n",
       "            </style>\n",
       "            "
      ],
      "text/plain": [
       "<IPython.core.display.HTML object>"
      ]
     },
     "metadata": {},
     "output_type": "display_data"
    }
   ],
   "source": [
    "def addNDVI(image):\n",
    "    ndvi = image.normalizedDifference(['B8', 'B4']).rename('NDVI')\n",
    "    return image.addBands(ndvi)"
   ]
  },
  {
   "cell_type": "markdown",
   "id": "4336b46c",
   "metadata": {},
   "source": [
    "## 4.1. Funciones para enmascarar nubes y nieve/hielo en imágenes Sentinel-2\n",
    "\n",
    "En este bloque se define una función para eliminar píxeles de nubes y nieve/hielo en imágenes Sentinel-2. Esto es crucial para mejorar la calidad de los análisis de índices de vegetación como NDVI, especialmente en zonas costeras donde la presencia de agua y bruma puede provocar errores en las máscaras estándar. \n",
    "\n",
    "###  **Función 1: Enmascarado usando bandas probabilísticas**\n",
    "\n",
    "1. Se usa la banda `MSK_CLDPRB` (Cloud Probability Mask) para excluir áreas con alta probabilidad de nubes.  \n",
    "2. Se usa la banda `MSK_SNWPRB` (Snow Probability Mask) para excluir áreas con alta probabilidad de nieve/hielo.  \n",
    "3. Se combina la máscara y se aplica sobre la imagen original mediante `.updateMask()`.\n",
    "\n",
    "---"
   ]
  },
  {
   "cell_type": "code",
   "execution_count": 18,
   "id": "e5557ae3",
   "metadata": {},
   "outputs": [
    {
     "data": {
      "text/html": [
       "\n",
       "            <style>\n",
       "                .geemap-dark {\n",
       "                    --jp-widgets-color: white;\n",
       "                    --jp-widgets-label-color: white;\n",
       "                    --jp-ui-font-color1: white;\n",
       "                    --jp-layout-color2: #454545;\n",
       "                    background-color: #383838;\n",
       "                }\n",
       "\n",
       "                .geemap-dark .jupyter-button {\n",
       "                    --jp-layout-color3: #383838;\n",
       "                }\n",
       "\n",
       "                .geemap-colab {\n",
       "                    background-color: var(--colab-primary-surface-color, white);\n",
       "                }\n",
       "\n",
       "                .geemap-colab .jupyter-button {\n",
       "                    --jp-layout-color3: var(--colab-primary-surface-color, white);\n",
       "                }\n",
       "            </style>\n",
       "            "
      ],
      "text/plain": [
       "<IPython.core.display.HTML object>"
      ]
     },
     "metadata": {},
     "output_type": "display_data"
    }
   ],
   "source": [
    "# Función 1: Enmascarar nubes y nieve/hielo usando probabilidades\n",
    "\n",
    "# Los umbrales de nubes y nieve se pueden ajustar ✏️\n",
    "def maskS2clouds_coastal(image, cloud_thresh=10, snow_thresh=20):\n",
    "   \n",
    "    # Seleccionar la banda de probabilidad de nubes\n",
    "    clouds = image.select('MSK_CLDPRB')\n",
    "    \n",
    "    # Enmascarar áreas con probabilidad de nubes mayor al umbral\n",
    "    mask = clouds.lt(cloud_thresh)\n",
    "    \n",
    "    # Enmascarar áreas con probabilidad de nieve mayor al umbral\n",
    "    snow = image.select('MSK_SNWPRB')\n",
    "    mask = mask.And(snow.lt(snow_thresh))\n",
    "    \n",
    "    # Aplicar la máscara a la imagen\n",
    "    return image.updateMask(mask)\n"
   ]
  },
  {
   "cell_type": "markdown",
   "id": "8fb2cc4e",
   "metadata": {},
   "source": [
    "\n",
    "### 🌫️ **Función 2: Enmascarado usando Scene Classification Layer (SCL)**\n",
    "Esta función utiliza la banda `SCL` (*Scene Classification Layer*) para excluir píxeles identificados como:  \n",
    "- **3** = Sombras de nubes.  \n",
    "- **8, 9** = Nubes (probabilidad media/alta).  \n",
    "- **10** = Cirros delgados.  \n",
    "- **11** = Nieve/Hielo.  \n",
    "\n",
    "Este método es más robusto para eliminar **sombras de nubes**, que suelen confundirse con vegetación en índices como NDVI.\n",
    "\n",
    "---\n",
    "\n",
    "📖 **Referencias:**\n",
    "- ESA (2015). Sentinel-2 User Handbook. [Link](https://sentinel.esa.int/documents/247904/685211/Sentinel-2_User_Handbook).  \n",
    "- Google Earth Engine Docs: [Sentinel-2 SR Harmonized](https://developers.google.com/earth-engine/datasets/catalog/COPERNICUS_S2_SR_HARMONIZED).  \n",
    "- Zhu & Woodcock (2012). Object-based cloud and cloud shadow detection in Landsat imagery. *Remote Sensing of Environment*, 118, 83–94. [DOI](https://doi.org/10.1016/j.rse.2011.10.028).  \n"
   ]
  },
  {
   "cell_type": "code",
   "execution_count": null,
   "id": "6effca90",
   "metadata": {},
   "outputs": [
    {
     "data": {
      "text/html": [
       "\n",
       "            <style>\n",
       "                .geemap-dark {\n",
       "                    --jp-widgets-color: white;\n",
       "                    --jp-widgets-label-color: white;\n",
       "                    --jp-ui-font-color1: white;\n",
       "                    --jp-layout-color2: #454545;\n",
       "                    background-color: #383838;\n",
       "                }\n",
       "\n",
       "                .geemap-dark .jupyter-button {\n",
       "                    --jp-layout-color3: #383838;\n",
       "                }\n",
       "\n",
       "                .geemap-colab {\n",
       "                    background-color: var(--colab-primary-surface-color, white);\n",
       "                }\n",
       "\n",
       "                .geemap-colab .jupyter-button {\n",
       "                    --jp-layout-color3: var(--colab-primary-surface-color, white);\n",
       "                }\n",
       "            </style>\n",
       "            "
      ],
      "text/plain": [
       "<IPython.core.display.HTML object>"
      ]
     },
     "metadata": {},
     "output_type": "display_data"
    },
    {
     "name": "stdout",
     "output_type": "stream",
     "text": [
      "✅ Funciones de enmascarado definidas correctamente.\n"
     ]
    }
   ],
   "source": [
    "# Funcion 2:  Enmascarar nubes y sombras usando Scene Classification Layer (SCL)\n",
    "\n",
    "def maskS2clouds_SCL(image):\n",
    "\n",
    "    # Seleccionar la banda de clasificación SCL\n",
    "    scl = image.select('SCL')\n",
    "\n",
    "    # Definir las clases a enmascarar:\n",
    "    # 3 = Cloud Shadow, 8 = Clouds (Medium Probability), 9 = Clouds (High Probability),\n",
    "    # 10 = Thin Cirrus, 11 = Snow/Ice\n",
    "    mask = scl.neq(3).And(\n",
    "        scl.neq(8)).And(\n",
    "        scl.neq(9)).And(\n",
    "        scl.neq(10)).And(\n",
    "        scl.neq(11))\n",
    "    \n",
    "    # Aplicar la máscara\n",
    "    return image.updateMask(mask)\n",
    "\n",
    "print(\"✅ Funciones de enmascarado definidas correctamente.\")"
   ]
  },
  {
   "cell_type": "markdown",
   "id": "318e5c5e",
   "metadata": {},
   "source": [
    " # 6: Selección de periodos y ajuste dinámico de nubosidad según la estación\n",
    "\n",
    "Se configura el **periodo de análisis** (años y meses) y se ajusta automáticamente el porcentaje máximo de nubosidad permitido según la estación:\n",
    "\n",
    "- 🌧️ **Época de lluvias (junio-noviembre):** Se permite hasta un **30% de nubosidad**, ya que las condiciones atmosféricas suelen ser más húmedas y nubladas.  \n",
    "- ☀️ **Época seca (diciembre-mayo):** Se usa un umbral más estricto (**10-20%**) para asegurar imágenes limpias.  \n",
    "\n",
    "---\n",
    "\n",
    "1. El usuario define los años y meses de interés en las variables `años`, `mes_inicio`, y `mes_fin`.  \n",
    "2. La función `definir_nubosidad()` evalúa la estación y ajusta dinámicamente el umbral de nubosidad.  \n",
    "3. Se filtra la colección Sentinel-2 por año y se aplica:\n",
    "   - **Enmascarado de nubes/nieve** (`maskS2clouds_coastal`).\n",
    "   - **Cálculo del NDVI** (`addNDVI`).\n",
    "4. Los resultados se almacenan en un diccionario `colecciones_filtradas` para uso posterior.\n",
    "\n",
    "📖 **Referencias:**\n",
    "- ESA (2015). Sentinel-2 User Handbook.  \n",
    "- Google Earth Engine Docs: [FilterDate()](https://developers.google.com/earth-engine/apidocs/ee-imagecollection-filterdate).  \n"
   ]
  },
  {
   "cell_type": "code",
   "execution_count": 21,
   "id": "9748fcea",
   "metadata": {},
   "outputs": [
    {
     "data": {
      "text/html": [
       "\n",
       "            <style>\n",
       "                .geemap-dark {\n",
       "                    --jp-widgets-color: white;\n",
       "                    --jp-widgets-label-color: white;\n",
       "                    --jp-ui-font-color1: white;\n",
       "                    --jp-layout-color2: #454545;\n",
       "                    background-color: #383838;\n",
       "                }\n",
       "\n",
       "                .geemap-dark .jupyter-button {\n",
       "                    --jp-layout-color3: #383838;\n",
       "                }\n",
       "\n",
       "                .geemap-colab {\n",
       "                    background-color: var(--colab-primary-surface-color, white);\n",
       "                }\n",
       "\n",
       "                .geemap-colab .jupyter-button {\n",
       "                    --jp-layout-color3: var(--colab-primary-surface-color, white);\n",
       "                }\n",
       "            </style>\n",
       "            "
      ],
      "text/plain": [
       "<IPython.core.display.HTML object>"
      ]
     },
     "metadata": {},
     "output_type": "display_data"
    },
    {
     "name": "stdout",
     "output_type": "stream",
     "text": [
      "📅 Periodo seleccionado: Meses 1-12, Años [2020, 2021, 2022, 2023, 2024]\n",
      "☁️ Porcentaje máximo de nubosidad permitido: 30%\n",
      "✅ Año 2020: 101 imágenes filtradas.\n",
      "✅ Año 2021: 90 imágenes filtradas.\n",
      "✅ Año 2022: 81 imágenes filtradas.\n",
      "✅ Año 2023: 92 imágenes filtradas.\n",
      "✅ Año 2024: 92 imágenes filtradas.\n",
      "🎯 Colecciones Sentinel-2 preparadas por año.\n"
     ]
    }
   ],
   "source": [
    "\n",
    "# ✏️ EDITAR: Definir años y meses de interés\n",
    "años = [2020, 2021, 2022, 2023, 2024]  # Lista de años a evaluar ✏️\n",
    "mes_inicio, mes_fin = 1, 12             # Intervalo de meses (1-12)\n",
    "print(f\"📅 Periodo seleccionado: Meses {mes_inicio}-{mes_fin}, Años {años}\")\n",
    "\n",
    "# Validación de rangos\n",
    "assert 1 <= mes_inicio <= 12 and 1 <= mes_fin <= 12, \"Mes fuera de rango (1-12)\"\n",
    "assert mes_inicio <= mes_fin, \"mes_inicio debe ser ≤ mes_fin\"\n",
    "\n",
    "# Función para definir el porcentaje máximo de nubosidad según estación\n",
    "def definir_nubosidad(mes_inicio, mes_fin):\n",
    "    \"\"\"\n",
    "    Ajusta el porcentaje máximo de nubosidad permitido según la estación:\n",
    "    - Época de lluvias (junio-noviembre): 30%\n",
    "    - Época seca (diciembre-mayo): 10-20%\n",
    "    \"\"\"\n",
    "    meses_lluvia = list(range(6, 12 + 1))  # Junio a Noviembre\n",
    "    # Si el rango de meses incluye alguno de lluvias\n",
    "    if any(mes in meses_lluvia for mes in range(mes_inicio, mes_fin + 1)):\n",
    "        return 30  # Permitir más nubosidad\n",
    "    else:\n",
    "        return 15  # Más estricto en época seca\n",
    "\n",
    "# Determinar porcentaje de nubosidad para el periodo seleccionado\n",
    "nubosidad_max = definir_nubosidad(mes_inicio, mes_fin)\n",
    "print(f\"☁️ Porcentaje máximo de nubosidad permitido: {nubosidad_max}%\")\n",
    "\n",
    "# Diccionario para almacenar las colecciones Sentinel-2 filtradas por año\n",
    "colecciones_filtradas = {}\n",
    "\n",
    "# Filtrar imágenes por año y meses, aplicar enmascarado y almacenar en el diccionario\n",
    "for año in años:\n",
    "    fecha_inicio = ee.Date.fromYMD(año, mes_inicio, 1)\n",
    "    fecha_fin = ee.Date.fromYMD(año, mes_fin, 28)  # Día 28 para evitar problemas de febrero\n",
    "\n",
    "    # Filtrar colección Sentinel-2\n",
    "    coleccion = (ee.ImageCollection('COPERNICUS/S2_SR_HARMONIZED')\n",
    "                 .filterBounds(aoi)\n",
    "                 .filterDate(fecha_inicio, fecha_fin)\n",
    "                 .filter(ee.Filter.lt('CLOUDY_PIXEL_PERCENTAGE', nubosidad_max))\n",
    "                 .map(maskS2clouds_coastal)  # Aplicar función de enmascarado\n",
    "                 .map(addNDVI)               # Calcular NDVI\n",
    "                )\n",
    "\n",
    "    colecciones_filtradas[año] = coleccion\n",
    "    print(f\"✅ Año {año}: {coleccion.size().getInfo()} imágenes filtradas.\")\n",
    "\n",
    "print(\"🎯 Colecciones Sentinel-2 preparadas por año.\")\n"
   ]
  },
  {
   "cell_type": "markdown",
   "id": "8c1701c1",
   "metadata": {},
   "source": [
    "# 7. Estadísticos de validación por año\n",
    "\n",
    " Metricas que permiten evaluar la calidad de los datos y confirmar que el filtrado por nubosidad y el enmascarado funcionaron correctamente.\n",
    "\n",
    "### Estadísticas calculadas:\n",
    "- **NDVI mínimo y máximo**: Indican el rango de valores presentes en el área de interés (AOI).  \n",
    "- **NDVI medio y desviación estándar**: Reflejan la cobertura vegetal promedio y la heterogeneidad en el AOI.  \n",
    "- **Número de imágenes**: Cantidad de imágenes usadas para generar el mosaico por año.\n",
    "\n",
    "**Referencias:**\n",
    "- Huete, A., et al. (2002). Overview of the radiometric and biophysical performance of the MODIS vegetation indices. *Remote Sensing of Environment*, 83(1-2), 195–213.  \n",
    "- Google Earth Engine Docs: [reduceRegion()](https://developers.google.com/earth-engine/apidocs/ee-image-reduceregion)."
   ]
  },
  {
   "cell_type": "code",
   "execution_count": 23,
   "id": "3418ad52",
   "metadata": {},
   "outputs": [
    {
     "data": {
      "text/html": [
       "\n",
       "            <style>\n",
       "                .geemap-dark {\n",
       "                    --jp-widgets-color: white;\n",
       "                    --jp-widgets-label-color: white;\n",
       "                    --jp-ui-font-color1: white;\n",
       "                    --jp-layout-color2: #454545;\n",
       "                    background-color: #383838;\n",
       "                }\n",
       "\n",
       "                .geemap-dark .jupyter-button {\n",
       "                    --jp-layout-color3: #383838;\n",
       "                }\n",
       "\n",
       "                .geemap-colab {\n",
       "                    background-color: var(--colab-primary-surface-color, white);\n",
       "                }\n",
       "\n",
       "                .geemap-colab .jupyter-button {\n",
       "                    --jp-layout-color3: var(--colab-primary-surface-color, white);\n",
       "                }\n",
       "            </style>\n",
       "            "
      ],
      "text/plain": [
       "<IPython.core.display.HTML object>"
      ]
     },
     "metadata": {},
     "output_type": "display_data"
    },
    {
     "data": {
      "text/html": [
       "<div>\n",
       "<style scoped>\n",
       "    .dataframe tbody tr th:only-of-type {\n",
       "        vertical-align: middle;\n",
       "    }\n",
       "\n",
       "    .dataframe tbody tr th {\n",
       "        vertical-align: top;\n",
       "    }\n",
       "\n",
       "    .dataframe thead th {\n",
       "        text-align: right;\n",
       "    }\n",
       "</style>\n",
       "<table border=\"1\" class=\"dataframe\">\n",
       "  <thead>\n",
       "    <tr style=\"text-align: right;\">\n",
       "      <th></th>\n",
       "      <th>Año</th>\n",
       "      <th>NDVI_min</th>\n",
       "      <th>NDVI_max</th>\n",
       "      <th>NDVI_media</th>\n",
       "      <th>NDVI_stdDev</th>\n",
       "      <th>N_imagenes</th>\n",
       "    </tr>\n",
       "  </thead>\n",
       "  <tbody>\n",
       "    <tr>\n",
       "      <th>0</th>\n",
       "      <td>2020</td>\n",
       "      <td>0.299941</td>\n",
       "      <td>0.704993</td>\n",
       "      <td>0.500611</td>\n",
       "      <td>0.086231</td>\n",
       "      <td>101</td>\n",
       "    </tr>\n",
       "    <tr>\n",
       "      <th>1</th>\n",
       "      <td>2021</td>\n",
       "      <td>0.246454</td>\n",
       "      <td>0.671284</td>\n",
       "      <td>0.480387</td>\n",
       "      <td>0.086720</td>\n",
       "      <td>90</td>\n",
       "    </tr>\n",
       "    <tr>\n",
       "      <th>2</th>\n",
       "      <td>2022</td>\n",
       "      <td>0.025374</td>\n",
       "      <td>0.710256</td>\n",
       "      <td>0.449533</td>\n",
       "      <td>0.100945</td>\n",
       "      <td>81</td>\n",
       "    </tr>\n",
       "    <tr>\n",
       "      <th>3</th>\n",
       "      <td>2023</td>\n",
       "      <td>0.035709</td>\n",
       "      <td>0.667521</td>\n",
       "      <td>0.445574</td>\n",
       "      <td>0.100515</td>\n",
       "      <td>92</td>\n",
       "    </tr>\n",
       "    <tr>\n",
       "      <th>4</th>\n",
       "      <td>2024</td>\n",
       "      <td>0.046043</td>\n",
       "      <td>0.636456</td>\n",
       "      <td>0.430419</td>\n",
       "      <td>0.089479</td>\n",
       "      <td>92</td>\n",
       "    </tr>\n",
       "  </tbody>\n",
       "</table>\n",
       "</div>"
      ],
      "text/plain": [
       "    Año  NDVI_min  NDVI_max  NDVI_media  NDVI_stdDev  N_imagenes\n",
       "0  2020  0.299941  0.704993    0.500611     0.086231         101\n",
       "1  2021  0.246454  0.671284    0.480387     0.086720          90\n",
       "2  2022  0.025374  0.710256    0.449533     0.100945          81\n",
       "3  2023  0.035709  0.667521    0.445574     0.100515          92\n",
       "4  2024  0.046043  0.636456    0.430419     0.089479          92"
      ]
     },
     "metadata": {},
     "output_type": "display_data"
    }
   ],
   "source": [
    "\n",
    "# Lista para almacenar resultados por año\n",
    "resumen_stats = []\n",
    "\n",
    "# Iterar sobre los años filtrados\n",
    "for año, coleccion in colecciones_filtradas.items():\n",
    "    # Crear un mosaico NDVI para el año (media de las imágenes)\n",
    "    ndvi_mosaico = coleccion.select('NDVI').mean().clip(aoi)\n",
    "    \n",
    "    # Reducir a estadísticas sobre el AOI\n",
    "    stats = ndvi_mosaico.reduceRegion(\n",
    "        reducer=ee.Reducer.minMax()\n",
    "                      .combine(reducer2=ee.Reducer.mean(), sharedInputs=True)\n",
    "                      .combine(reducer2=ee.Reducer.stdDev(), sharedInputs=True),\n",
    "        geometry=aoi,\n",
    "        scale=10,\n",
    "        maxPixels=1e9\n",
    "    ).getInfo()\n",
    "\n",
    "    resumen_stats.append({\n",
    "        \"Año\": año,\n",
    "        \"NDVI_min\": stats.get(\"NDVI_min\", None),\n",
    "        \"NDVI_max\": stats.get(\"NDVI_max\", None),\n",
    "        \"NDVI_media\": stats.get(\"NDVI_mean\", None),\n",
    "        \"NDVI_stdDev\": stats.get(\"NDVI_stdDev\", None),\n",
    "        \"N_imagenes\": coleccion.size().getInfo()\n",
    "    })\n",
    "\n",
    "# Convertir a DataFrame para visualizar\n",
    "df_resumen = pd.DataFrame(resumen_stats)\n",
    "display(df_resumen)\n"
   ]
  },
  {
   "cell_type": "markdown",
   "id": "2a848308",
   "metadata": {},
   "source": [
    "### Interpretación\n",
    "NDVI_media va disminuyendo ligeramente de 2020 (0.50) a 2024 (0.43).\n",
    "NDVI_stdDev es relativamente constante (~0.08-0.10), lo que indica que la heterogeneidad del paisaje no varía tanto entre años.\n",
    "N_imagenes es alto (81–101), lo cual confirma que el filtro de nubosidad no está excluyendo demasiado material y que tenemos mosaicos robustos.\n",
    "Los valores NDVI_min bajos en 2022 y 2023 (~0.02-0.03) sugieren presencia de áreas sin vegetación (agua, suelo desnudo o nubes residuales)."
   ]
  },
  {
   "cell_type": "code",
   "execution_count": 24,
   "id": "1a13a372",
   "metadata": {},
   "outputs": [
    {
     "data": {
      "text/html": [
       "\n",
       "            <style>\n",
       "                .geemap-dark {\n",
       "                    --jp-widgets-color: white;\n",
       "                    --jp-widgets-label-color: white;\n",
       "                    --jp-ui-font-color1: white;\n",
       "                    --jp-layout-color2: #454545;\n",
       "                    background-color: #383838;\n",
       "                }\n",
       "\n",
       "                .geemap-dark .jupyter-button {\n",
       "                    --jp-layout-color3: #383838;\n",
       "                }\n",
       "\n",
       "                .geemap-colab {\n",
       "                    background-color: var(--colab-primary-surface-color, white);\n",
       "                }\n",
       "\n",
       "                .geemap-colab .jupyter-button {\n",
       "                    --jp-layout-color3: var(--colab-primary-surface-color, white);\n",
       "                }\n",
       "            </style>\n",
       "            "
      ],
      "text/plain": [
       "<IPython.core.display.HTML object>"
      ]
     },
     "metadata": {},
     "output_type": "display_data"
    },
    {
     "data": {
      "image/png": "[encoded data removed]",
      "text/plain": [
       "<Figure size 1000x600 with 1 Axes>"
      ]
     },
     "metadata": {},
     "output_type": "display_data"
    },
    {
     "data": {
      "image/png": "[encoded data removed]",
      "text/plain": [
       "<Figure size 1200x600 with 1 Axes>"
      ]
     },
     "metadata": {},
     "output_type": "display_data"
    }
   ],
   "source": [
    "# Configurar tamaño del gráfico\n",
    "plt.figure(figsize=(10, 6))\n",
    "\n",
    "# Línea de tendencia NDVI_media con barras de desviación estándar\n",
    "plt.errorbar(\n",
    "    df_resumen[\"Año\"], df_resumen[\"NDVI_media\"],\n",
    "    yerr=df_resumen[\"NDVI_stdDev\"],\n",
    "    fmt='-o', capsize=5, capthick=1, label=\"NDVI promedio ± stdDev\"\n",
    ")\n",
    "\n",
    "# Etiquetas y título\n",
    "plt.title(\"📈 Tendencia anual del NDVI promedio\", fontsize=14)\n",
    "plt.xlabel(\"Año\", fontsize=12)\n",
    "plt.ylabel(\"NDVI promedio\", fontsize=12)\n",
    "plt.grid(True, linestyle='--', alpha=0.5)\n",
    "plt.legend()\n",
    "plt.show()\n",
    "\n",
    "# Boxplot comparativo NDVI por año (muestra rápida con 1% de los datos)\n",
    "plt.figure(figsize=(12, 6))\n",
    "\n",
    "# Extraer muestras de NDVI para boxplot\n",
    "muestras = []\n",
    "etiquetas = []\n",
    "for año, coleccion in colecciones_filtradas.items():\n",
    "    # Generar mosaico anual\n",
    "    ndvi_mosaico = coleccion.select('NDVI').mean().clip(aoi)\n",
    "    # Extraer valores NDVI al azar (muestra para visualización)\n",
    "    sample = ndvi_mosaico.sample(region=aoi, scale=10, numPixels=500, geometries=False).aggregate_array('NDVI').getInfo()\n",
    "    muestras.append(sample)\n",
    "    etiquetas.append(str(año))\n",
    "\n",
    "# Crear boxplot\n",
    "plt.boxplot(muestras, labels=etiquetas, showfliers=False)\n",
    "plt.title(\"📦 Distribución NDVI anual (Muestras)\", fontsize=14)\n",
    "plt.xlabel(\"Año\", fontsize=12)\n",
    "plt.ylabel(\"NDVI\", fontsize=12)\n",
    "plt.grid(axis='y', linestyle='--', alpha=0.5)\n",
    "plt.show()\n"
   ]
  },
  {
   "cell_type": "markdown",
   "id": "06d45761",
   "metadata": {},
   "source": [
    "### Interpretación\n",
    "\n",
    "#### Tendencia anual del NDVI promedio\n",
    "    El NDVI promedio disminuye ligeramente de 2020 (~0.50) a 2024 (~0.43).\n",
    "    Las barras de desviación estándar son relativamente estables (~0.08–0.10), lo que sugiere que la variabilidad anual del NDVI no cambia drásticamente.\n",
    "\n",
    "**Esta tendencia podría indicar:**\n",
    "    Pérdida progresiva de cobertura vegetal (deforestación, degradación, cambio de uso de suelo).\n",
    "    Efectos climáticos (sequías, variaciones interanuales).\n",
    "\n",
    "#### Boxplots NDVI por año\n",
    "    Las medianas de NDVI siguen el mismo patrón de descenso.\n",
    "    Los rangos intercuartílicos se mantienen similares, pero hay valores mínimos más bajos en 2022–2024, lo que sugiere que hay más áreas con NDVI muy bajo (suelo desnudo, agua o nubes residuales).\n",
    "\n",
    "**Esta tendencia podría indicar:**\n",
    "    Menor proporción de vegetación saludable en los años recientes.\n",
    "    Los valores mínimos muy bajos pueden deberse a:\n",
    "    Zonas de agua y suelo desnudo reales.\n",
    "\n",
    "---\n"
   ]
  },
  {
   "cell_type": "markdown",
   "id": "fe3b6802",
   "metadata": {},
   "source": [
    "## 7.1. Validar la máscara de nubes y sombras\n",
    "\n",
    "En este bloque se visualizan mosaicos RGB y NDVI para confirmar que:\n",
    "- Las funciones de enmascarado eliminaron correctamente nubes y sombras.\n",
    "- No hay áreas enmascaradas de forma excesiva que limiten el análisis.\n",
    "- Las imágenes combinadas (mosaico) son representativas del periodo seleccionado."
   ]
  },
  {
   "cell_type": "code",
   "execution_count": 33,
   "id": "b3e2ebd1",
   "metadata": {},
   "outputs": [
    {
     "data": {
      "text/html": [
       "\n",
       "            <style>\n",
       "                .geemap-dark {\n",
       "                    --jp-widgets-color: white;\n",
       "                    --jp-widgets-label-color: white;\n",
       "                    --jp-ui-font-color1: white;\n",
       "                    --jp-layout-color2: #454545;\n",
       "                    background-color: #383838;\n",
       "                }\n",
       "\n",
       "                .geemap-dark .jupyter-button {\n",
       "                    --jp-layout-color3: #383838;\n",
       "                }\n",
       "\n",
       "                .geemap-colab {\n",
       "                    background-color: var(--colab-primary-surface-color, white);\n",
       "                }\n",
       "\n",
       "                .geemap-colab .jupyter-button {\n",
       "                    --jp-layout-color3: var(--colab-primary-surface-color, white);\n",
       "                }\n",
       "            </style>\n",
       "            "
      ],
      "text/plain": [
       "<IPython.core.display.HTML object>"
      ]
     },
     "metadata": {},
     "output_type": "display_data"
    },
    {
     "name": "stdout",
     "output_type": "stream",
     "text": [
      "📅 Año 2020: 101 imágenes disponibles\n",
      "📅 Año 2021: 90 imágenes disponibles\n",
      "📅 Año 2022: 81 imágenes disponibles\n",
      "📅 Año 2023: 92 imágenes disponibles\n",
      "📅 Año 2024: 92 imágenes disponibles\n"
     ]
    }
   ],
   "source": [
    "for año, coleccion in colecciones_filtradas.items():\n",
    "    num_imgs = coleccion.size().getInfo()\n",
    "    print(f\"📅 Año {año}: {num_imgs} imágenes disponibles\")"
   ]
  },
  {
   "cell_type": "code",
   "execution_count": 43,
   "id": "eacc2a95",
   "metadata": {},
   "outputs": [
    {
     "data": {
      "text/html": [
       "\n",
       "            <style>\n",
       "                .geemap-dark {\n",
       "                    --jp-widgets-color: white;\n",
       "                    --jp-widgets-label-color: white;\n",
       "                    --jp-ui-font-color1: white;\n",
       "                    --jp-layout-color2: #454545;\n",
       "                    background-color: #383838;\n",
       "                }\n",
       "\n",
       "                .geemap-dark .jupyter-button {\n",
       "                    --jp-layout-color3: #383838;\n",
       "                }\n",
       "\n",
       "                .geemap-colab {\n",
       "                    background-color: var(--colab-primary-surface-color, white);\n",
       "                }\n",
       "\n",
       "                .geemap-colab .jupyter-button {\n",
       "                    --jp-layout-color3: var(--colab-primary-surface-color, white);\n",
       "                }\n",
       "            </style>\n",
       "            "
      ],
      "text/plain": [
       "<IPython.core.display.HTML object>"
      ]
     },
     "metadata": {},
     "output_type": "display_data"
    },
    {
     "data": {
      "application/vnd.jupyter.widget-view+json": {
       "model_id": "14cb96527d344a9f95a9c4f870a9ab8d",
       "version_major": 2,
       "version_minor": 0
      },
      "text/plain": [
       "Map(center=[19.481693985330033, -97.87640471671325], controls=(WidgetControl(options=['position', 'transparent…"
      ]
     },
     "execution_count": 43,
     "metadata": {},
     "output_type": "execute_result"
    }
   ],
   "source": [
    "# Diagnóstico rápido: visualizar mosaicos RGB crudos\n",
    "\n",
    "# Crear mapa\n",
    "Map_diag = geemap.Map(basemap='Esri.WorldImagery')\n",
    "Map_diag.centerObject(aoi, zoom=15)\n",
    "\n",
    "# Mosaico RGB sin aplicar máscara\n",
    "for año in [2020, 2021, 2022, 2023, 2024, 2025]:\n",
    "    coleccion_cruda = (ee.ImageCollection('COPERNICUS/S2_SR_HARMONIZED')\n",
    "                       .filterBounds(aoi)\n",
    "                       .filterDate(f\"{año}-01-01\", f\"{año}-12-31\")\n",
    "                       .filter(ee.Filter.lt('CLOUDY_PIXEL_PERCENTAGE', 50)))  # Filtro relajado\n",
    "\n",
    "    rgb_mosaico = coleccion_cruda.select(['B4', 'B3', 'B2']).median().clip(aoi)\n",
    "\n",
    "    vis_rgb = {'min': 0, 'max': 3000, 'bands': ['B4', 'B3', 'B2']}\n",
    "    Map_diag.addLayer(rgb_mosaico, vis_rgb, f'RGB {año} (Sin máscara)')\n",
    "\n",
    "# Mostrar AOI\n",
    "style = {'color': 'red', 'width': 2, 'fillColor': '00000000'}\n",
    "Map_diag.addLayer(ee.FeatureCollection(aoi).style(**style), {}, 'AOI')\n",
    "\n",
    "# Mostrar mapa\n",
    "Map_diag\n"
   ]
  },
  {
   "cell_type": "code",
   "execution_count": 45,
   "id": "4a22f8ec",
   "metadata": {},
   "outputs": [
    {
     "data": {
      "text/html": [
       "\n",
       "            <style>\n",
       "                .geemap-dark {\n",
       "                    --jp-widgets-color: white;\n",
       "                    --jp-widgets-label-color: white;\n",
       "                    --jp-ui-font-color1: white;\n",
       "                    --jp-layout-color2: #454545;\n",
       "                    background-color: #383838;\n",
       "                }\n",
       "\n",
       "                .geemap-dark .jupyter-button {\n",
       "                    --jp-layout-color3: #383838;\n",
       "                }\n",
       "\n",
       "                .geemap-colab {\n",
       "                    background-color: var(--colab-primary-surface-color, white);\n",
       "                }\n",
       "\n",
       "                .geemap-colab .jupyter-button {\n",
       "                    --jp-layout-color3: var(--colab-primary-surface-color, white);\n",
       "                }\n",
       "            </style>\n",
       "            "
      ],
      "text/plain": [
       "<IPython.core.display.HTML object>"
      ]
     },
     "metadata": {},
     "output_type": "display_data"
    },
    {
     "data": {
      "application/vnd.jupyter.widget-view+json": {
       "model_id": "7775c8662fc04b1380e13473c92bfecc",
       "version_major": 2,
       "version_minor": 0
      },
      "text/plain": [
       "Map(center=[19.481693985330033, -97.87640471671325], controls=(WidgetControl(options=['position', 'transparent…"
      ]
     },
     "execution_count": 45,
     "metadata": {},
     "output_type": "execute_result"
    }
   ],
   "source": [
    "# Visualizar mosaicos NDVI procesados con máscaras y filtros por temporada\n",
    "\n",
    "# Crear mapa interactivo\n",
    "Map_NDVI_final = geemap.Map(basemap='Esri.WorldImagery')\n",
    "Map_NDVI_final.centerObject(aoi, zoom=17)\n",
    "\n",
    "# Visualizar mosaicos NDVI anuales procesados\n",
    "for año, coleccion in colecciones_filtradas.items():\n",
    "    # Crear mosaico NDVI a partir de las imágenes ya filtradas y enmascaradas\n",
    "    ndvi_mosaico = coleccion.select('NDVI').median().clip(aoi)\n",
    "\n",
    "    # Parámetros de visualización para NDVI\n",
    "    vis_ndvi = {\n",
    "        'min': 0,\n",
    "        'max': 1,\n",
    "        'palette': ['brown', 'yellow', 'green']  # Vegetación de baja a alta\n",
    "    }\n",
    "\n",
    "    # Añadir mosaico al mapa\n",
    "    Map_NDVI_final.addLayer(ndvi_mosaico, vis_ndvi, f'NDVI {año} (procesado)')\n",
    "\n",
    "# Añadir contorno del AOI en rojo\n",
    "style = {'color': 'red', 'width': 2, 'fillColor': '00000000'}\n",
    "Map_NDVI_final.addLayer(ee.FeatureCollection(aoi).style(**style), {}, 'AOI')\n",
    "\n",
    "# Mostrar mapa interactivo\n",
    "Map_NDVI_final\n"
   ]
  },
  {
   "cell_type": "markdown",
   "id": "b18d8907",
   "metadata": {},
   "source": [
    "## 7.2. Visualizar mosaicos NDVI anuales y por temporada (seca y lluvias)\n",
    "\n",
    "### 🎨 **Paleta de colores para NDVI**\n",
    "\n",
    "| Color  | Intervalo NDVI | Interpretación                 |\n",
    "|--------|----------------|----------------------------------|\n",
    "| 🟫 Brown | 0.0 – 0.2      | Suelo desnudo, agua, áreas sin vegetación |\n",
    "| 🟨 Yellow| 0.2 – 0.5      | Vegetación moderada (pastizales, cultivos) |\n",
    "| 🟩 Green | 0.5 – 1.0      | Vegetación densa (bosques, selvas)         |\n",
    "\n",
    "---\n",
    "\n",
    "### **Capas visualizadas**\n",
    "1. **NDVI anual (enero-diciembre):** Mosaico con todas las imágenes del año, útil para un panorama general.  \n",
    "2. **Temporada seca (diciembre-mayo):** \n",
    "   - Se usa un filtro estricto de nubosidad (**<15%**) para asegurar imágenes limpias.  \n",
    "3. **Temporada de lluvias (junio-noviembre):** \n",
    "   - Se permite mayor nubosidad (**<30%**) debido a las condiciones atmosféricas de la época.  \n",
    "\n",
    "---\n",
    "\n",
    "📖 **Referencias técnicas:**\n",
    "- ESA (2015). *Sentinel-2 User Handbook*.  \n",
    "- Google Earth Engine Docs: [NDVI Calculation](https://developers.google.com/earth-engine/datasets/catalog/COPERNICUS_S2_SR_HARMONIZED).  \n"
   ]
  },
  {
   "cell_type": "code",
   "execution_count": 61,
   "id": "bc30da2a",
   "metadata": {},
   "outputs": [
    {
     "data": {
      "text/html": [
       "\n",
       "            <style>\n",
       "                .geemap-dark {\n",
       "                    --jp-widgets-color: white;\n",
       "                    --jp-widgets-label-color: white;\n",
       "                    --jp-ui-font-color1: white;\n",
       "                    --jp-layout-color2: #454545;\n",
       "                    background-color: #383838;\n",
       "                }\n",
       "\n",
       "                .geemap-dark .jupyter-button {\n",
       "                    --jp-layout-color3: #383838;\n",
       "                }\n",
       "\n",
       "                .geemap-colab {\n",
       "                    background-color: var(--colab-primary-surface-color, white);\n",
       "                }\n",
       "\n",
       "                .geemap-colab .jupyter-button {\n",
       "                    --jp-layout-color3: var(--colab-primary-surface-color, white);\n",
       "                }\n",
       "            </style>\n",
       "            "
      ],
      "text/plain": [
       "<IPython.core.display.HTML object>"
      ]
     },
     "metadata": {},
     "output_type": "display_data"
    },
    {
     "data": {
      "application/vnd.jupyter.widget-view+json": {
       "model_id": "76b425d9474f4fd1802541598915c0af",
       "version_major": 2,
       "version_minor": 0
      },
      "text/plain": [
       "Map(center=[19.481693985330033, -97.87640471671325], controls=(WidgetControl(options=['position', 'transparent…"
      ]
     },
     "execution_count": 61,
     "metadata": {},
     "output_type": "execute_result"
    }
   ],
   "source": [
    "\n",
    "# Crear mapa interactivo\n",
    "Map_NDVI_epocas = geemap.Map(basemap='Esri.WorldImagery')\n",
    "Map_NDVI_epocas.centerObject(aoi, zoom=12)\n",
    "\n",
    "# Parámetros de visualización para NDVI\n",
    "vis_ndvi = {\n",
    "    'min': 0,\n",
    "    'max': 1,\n",
    "    'palette': ['brown', 'yellow', 'green']  # Vegetación de baja a alta\n",
    "}\n",
    "\n",
    "# Iterar sobre años y mostrar NDVI anuales y por temporada\n",
    "for año in años:\n",
    "    # Filtrar colección para todo el año\n",
    "    coleccion_anual = (ee.ImageCollection('COPERNICUS/S2_SR_HARMONIZED')\n",
    "                       .filterBounds(aoi)\n",
    "                       .filterDate(f\"{año}-01-01\", f\"{año}-12-31\")\n",
    "                       .filter(ee.Filter.lt('CLOUDY_PIXEL_PERCENTAGE', definir_nubosidad(1, 12)))\n",
    "                       .map(maskS2clouds_coastal)\n",
    "                       .map(addNDVI))\n",
    "\n",
    "    # Mosaico NDVI anual\n",
    "    ndvi_anual = coleccion_anual.select('NDVI').median().clip(aoi)\n",
    "    Map_NDVI_epocas.addLayer(ndvi_anual, vis_ndvi, f'NDVI {año} (anual)')\n",
    "\n",
    "    # Temporada seca (dic-may)\n",
    "    coleccion_seca = (ee.ImageCollection('COPERNICUS/S2_SR_HARMONIZED')\n",
    "                      .filterBounds(aoi)\n",
    "                      .filterDate(f\"{año}-01-01\", f\"{año}-05-31\")\n",
    "                      .filter(ee.Filter.lt('CLOUDY_PIXEL_PERCENTAGE', 15))  # Más estricto en seca\n",
    "                      .map(maskS2clouds_coastal)\n",
    "                      .map(addNDVI))\n",
    "\n",
    "    ndvi_seca = coleccion_seca.select('NDVI').median().clip(aoi)\n",
    "    Map_NDVI_epocas.addLayer(ndvi_seca, vis_ndvi, f'NDVI {año} (seca)')\n",
    "\n",
    "    # Temporada de lluvias (jun-nov)\n",
    "    coleccion_lluvias = (ee.ImageCollection('COPERNICUS/S2_SR_HARMONIZED')\n",
    "                         .filterBounds(aoi)\n",
    "                         .filterDate(f\"{año}-06-01\", f\"{año}-11-30\")\n",
    "                         .filter(ee.Filter.lt('CLOUDY_PIXEL_PERCENTAGE', 30))  # Más permisivo en lluvias\n",
    "                         .map(maskS2clouds_coastal)\n",
    "                         .map(addNDVI))\n",
    "\n",
    "    ndvi_lluvias = coleccion_lluvias.select('NDVI').median().clip(aoi)\n",
    "    Map_NDVI_epocas.addLayer(ndvi_lluvias, vis_ndvi, f'NDVI {año} (lluvias)')\n",
    "\n",
    "# Añadir contorno del AOI en rojo\n",
    "style = {'color': 'red', 'width': 2, 'fillColor': '00000000'}\n",
    "Map_NDVI_epocas.addLayer(ee.FeatureCollection(aoi).style(**style), {}, 'AOI')\n",
    "\n",
    "# Mostrar mapa interactivo\n",
    "Map_NDVI_epocas\n"
   ]
  },
  {
   "cell_type": "code",
   "execution_count": 57,
   "id": "6f46b7d8",
   "metadata": {},
   "outputs": [
    {
     "data": {
      "text/html": [
       "\n",
       "            <style>\n",
       "                .geemap-dark {\n",
       "                    --jp-widgets-color: white;\n",
       "                    --jp-widgets-label-color: white;\n",
       "                    --jp-ui-font-color1: white;\n",
       "                    --jp-layout-color2: #454545;\n",
       "                    background-color: #383838;\n",
       "                }\n",
       "\n",
       "                .geemap-dark .jupyter-button {\n",
       "                    --jp-layout-color3: #383838;\n",
       "                }\n",
       "\n",
       "                .geemap-colab {\n",
       "                    background-color: var(--colab-primary-surface-color, white);\n",
       "                }\n",
       "\n",
       "                .geemap-colab .jupyter-button {\n",
       "                    --jp-layout-color3: var(--colab-primary-surface-color, white);\n",
       "                }\n",
       "            </style>\n",
       "            "
      ],
      "text/plain": [
       "<IPython.core.display.HTML object>"
      ]
     },
     "metadata": {},
     "output_type": "display_data"
    },
    {
     "data": {
      "text/html": [
       "<div>\n",
       "<style scoped>\n",
       "    .dataframe tbody tr th:only-of-type {\n",
       "        vertical-align: middle;\n",
       "    }\n",
       "\n",
       "    .dataframe tbody tr th {\n",
       "        vertical-align: top;\n",
       "    }\n",
       "\n",
       "    .dataframe thead th {\n",
       "        text-align: right;\n",
       "    }\n",
       "</style>\n",
       "<table border=\"1\" class=\"dataframe\">\n",
       "  <thead>\n",
       "    <tr style=\"text-align: right;\">\n",
       "      <th></th>\n",
       "      <th>Año</th>\n",
       "      <th>Época</th>\n",
       "      <th>NDVI_min</th>\n",
       "      <th>NDVI_max</th>\n",
       "      <th>NDVI_media</th>\n",
       "      <th>NDVI_stdDev</th>\n",
       "      <th>N_imagenes</th>\n",
       "    </tr>\n",
       "  </thead>\n",
       "  <tbody>\n",
       "    <tr>\n",
       "      <th>0</th>\n",
       "      <td>2020</td>\n",
       "      <td>Seca</td>\n",
       "      <td>0.238721</td>\n",
       "      <td>0.698584</td>\n",
       "      <td>0.466723</td>\n",
       "      <td>0.099812</td>\n",
       "      <td>37</td>\n",
       "    </tr>\n",
       "    <tr>\n",
       "      <th>1</th>\n",
       "      <td>2020</td>\n",
       "      <td>Lluvias</td>\n",
       "      <td>0.372772</td>\n",
       "      <td>0.801968</td>\n",
       "      <td>0.574652</td>\n",
       "      <td>0.082201</td>\n",
       "      <td>42</td>\n",
       "    </tr>\n",
       "    <tr>\n",
       "      <th>2</th>\n",
       "      <td>2021</td>\n",
       "      <td>Seca</td>\n",
       "      <td>0.197911</td>\n",
       "      <td>0.683935</td>\n",
       "      <td>0.431711</td>\n",
       "      <td>0.106680</td>\n",
       "      <td>34</td>\n",
       "    </tr>\n",
       "    <tr>\n",
       "      <th>3</th>\n",
       "      <td>2021</td>\n",
       "      <td>Lluvias</td>\n",
       "      <td>0.206025</td>\n",
       "      <td>0.826919</td>\n",
       "      <td>0.581769</td>\n",
       "      <td>0.086947</td>\n",
       "      <td>30</td>\n",
       "    </tr>\n",
       "    <tr>\n",
       "      <th>4</th>\n",
       "      <td>2022</td>\n",
       "      <td>Seca</td>\n",
       "      <td>0.024319</td>\n",
       "      <td>0.736843</td>\n",
       "      <td>0.444124</td>\n",
       "      <td>0.117483</td>\n",
       "      <td>32</td>\n",
       "    </tr>\n",
       "    <tr>\n",
       "      <th>5</th>\n",
       "      <td>2022</td>\n",
       "      <td>Lluvias</td>\n",
       "      <td>0.027464</td>\n",
       "      <td>0.753220</td>\n",
       "      <td>0.464342</td>\n",
       "      <td>0.099153</td>\n",
       "      <td>29</td>\n",
       "    </tr>\n",
       "    <tr>\n",
       "      <th>6</th>\n",
       "      <td>2023</td>\n",
       "      <td>Seca</td>\n",
       "      <td>0.019194</td>\n",
       "      <td>0.665114</td>\n",
       "      <td>0.418564</td>\n",
       "      <td>0.113161</td>\n",
       "      <td>36</td>\n",
       "    </tr>\n",
       "    <tr>\n",
       "      <th>7</th>\n",
       "      <td>2023</td>\n",
       "      <td>Lluvias</td>\n",
       "      <td>0.031359</td>\n",
       "      <td>0.770762</td>\n",
       "      <td>0.490986</td>\n",
       "      <td>0.103012</td>\n",
       "      <td>37</td>\n",
       "    </tr>\n",
       "    <tr>\n",
       "      <th>8</th>\n",
       "      <td>2024</td>\n",
       "      <td>Seca</td>\n",
       "      <td>0.014480</td>\n",
       "      <td>0.624688</td>\n",
       "      <td>0.370821</td>\n",
       "      <td>0.107151</td>\n",
       "      <td>41</td>\n",
       "    </tr>\n",
       "    <tr>\n",
       "      <th>9</th>\n",
       "      <td>2024</td>\n",
       "      <td>Lluvias</td>\n",
       "      <td>0.033708</td>\n",
       "      <td>0.799995</td>\n",
       "      <td>0.535596</td>\n",
       "      <td>0.092027</td>\n",
       "      <td>33</td>\n",
       "    </tr>\n",
       "  </tbody>\n",
       "</table>\n",
       "</div>"
      ],
      "text/plain": [
       "    Año    Época  NDVI_min  NDVI_max  NDVI_media  NDVI_stdDev  N_imagenes\n",
       "0  2020     Seca  0.238721  0.698584    0.466723     0.099812          37\n",
       "1  2020  Lluvias  0.372772  0.801968    0.574652     0.082201          42\n",
       "2  2021     Seca  0.197911  0.683935    0.431711     0.106680          34\n",
       "3  2021  Lluvias  0.206025  0.826919    0.581769     0.086947          30\n",
       "4  2022     Seca  0.024319  0.736843    0.444124     0.117483          32\n",
       "5  2022  Lluvias  0.027464  0.753220    0.464342     0.099153          29\n",
       "6  2023     Seca  0.019194  0.665114    0.418564     0.113161          36\n",
       "7  2023  Lluvias  0.031359  0.770762    0.490986     0.103012          37\n",
       "8  2024     Seca  0.014480  0.624688    0.370821     0.107151          41\n",
       "9  2024  Lluvias  0.033708  0.799995    0.535596     0.092027          33"
      ]
     },
     "metadata": {},
     "output_type": "display_data"
    }
   ],
   "source": [
    "# Estadísticas NDVI por época y gráfica de validación\n",
    "\n",
    "# Lista para guardar estadísticas\n",
    "stats_epocas = []\n",
    "\n",
    "# Iterar sobre los años\n",
    "for año in años:\n",
    "    for epoca, (mes_ini, mes_fin, nubosidad) in {\n",
    "        \"Seca\": (1, 5, 15),         # Temporada seca: enero-mayo, nubosidad estricta\n",
    "        \"Lluvias\": (6, 11, 30)      # Temporada lluvias: junio-noviembre, nubosidad permisiva\n",
    "    }.items():\n",
    "        # Filtrar colección para la época y aplicar máscara\n",
    "        coleccion_epoca = (ee.ImageCollection('COPERNICUS/S2_SR_HARMONIZED')\n",
    "                           .filterBounds(aoi)\n",
    "                           .filterDate(f\"{año}-{mes_ini:02d}-01\", f\"{año}-{mes_fin:02d}-28\")\n",
    "                           .filter(ee.Filter.lt('CLOUDY_PIXEL_PERCENTAGE', nubosidad))\n",
    "                           .map(maskS2clouds_coastal)\n",
    "                           .map(addNDVI))\n",
    "\n",
    "        # Crear mosaico NDVI para la época\n",
    "        ndvi_mosaico = coleccion_epoca.select('NDVI').median().clip(aoi)\n",
    "\n",
    "        # Reducir a estadísticas\n",
    "        stats = ndvi_mosaico.reduceRegion(\n",
    "            reducer=ee.Reducer.minMax()\n",
    "                          .combine(reducer2=ee.Reducer.mean(), sharedInputs=True)\n",
    "                          .combine(reducer2=ee.Reducer.stdDev(), sharedInputs=True),\n",
    "            geometry=aoi,\n",
    "            scale=10,\n",
    "            maxPixels=1e9\n",
    "        ).getInfo()\n",
    "\n",
    "        # Guardar resultados\n",
    "        stats_epocas.append({\n",
    "            \"Año\": año,\n",
    "            \"Época\": epoca,\n",
    "            \"NDVI_min\": stats.get(\"NDVI_min\", None),\n",
    "            \"NDVI_max\": stats.get(\"NDVI_max\", None),\n",
    "            \"NDVI_media\": stats.get(\"NDVI_mean\", None),\n",
    "            \"NDVI_stdDev\": stats.get(\"NDVI_stdDev\", None),\n",
    "            \"N_imagenes\": coleccion_epoca.size().getInfo()\n",
    "        })\n",
    "\n",
    "# Convertir a DataFrame\n",
    "df_epocas = pd.DataFrame(stats_epocas)\n",
    "\n",
    "# Mostrar tabla\n",
    "display(df_epocas)\n"
   ]
  },
  {
   "cell_type": "markdown",
   "id": "0f0d9c42",
   "metadata": {},
   "source": [
    "## 7.3. Gráficas NDVI promedio por año para cada temporada\n",
    "\n",
    " ### 🌞 **Temporada seca (Enero–Mayo)**\n",
    "- NDVI promedio calculado para la estación seca de cada año.\n",
    "- Barra de error: desviación estándar del NDVI en el AOI.  \n",
    "\n",
    "🎨 **Color:** Amarillo (`#f1c40f`)  \n",
    "\n",
    "---\n",
    "\n",
    "### 🌧️ **Temporada de lluvias (Junio–Noviembre)**\n",
    "- NDVI promedio calculado para la estación lluviosa de cada año.\n",
    "- Barra de error: desviación estándar del NDVI en el AOI.  \n",
    "\n",
    "🎨 **Color:** Azul (`#3498db`)  \n",
    "\n",
    "---\n",
    "\n",
    " **Interpretación**:  \n",
    "- Las gráficas permiten comparar la variabilidad interanual del vigor vegetativo en cada temporada.  \n",
    "- Diferencias significativas entre años pueden reflejar efectos de clima, uso de suelo o degradación.  \n",
    "\n",
    "\n"
   ]
  },
  {
   "cell_type": "code",
   "execution_count": 59,
   "id": "1ea2fd0f",
   "metadata": {},
   "outputs": [
    {
     "data": {
      "text/html": [
       "\n",
       "            <style>\n",
       "                .geemap-dark {\n",
       "                    --jp-widgets-color: white;\n",
       "                    --jp-widgets-label-color: white;\n",
       "                    --jp-ui-font-color1: white;\n",
       "                    --jp-layout-color2: #454545;\n",
       "                    background-color: #383838;\n",
       "                }\n",
       "\n",
       "                .geemap-dark .jupyter-button {\n",
       "                    --jp-layout-color3: #383838;\n",
       "                }\n",
       "\n",
       "                .geemap-colab {\n",
       "                    background-color: var(--colab-primary-surface-color, white);\n",
       "                }\n",
       "\n",
       "                .geemap-colab .jupyter-button {\n",
       "                    --jp-layout-color3: var(--colab-primary-surface-color, white);\n",
       "                }\n",
       "            </style>\n",
       "            "
      ],
      "text/plain": [
       "<IPython.core.display.HTML object>"
      ]
     },
     "metadata": {},
     "output_type": "display_data"
    },
    {
     "data": {
      "image/png": "[encoded data removed]",
      "text/plain": [
       "<Figure size 800x500 with 1 Axes>"
      ]
     },
     "metadata": {},
     "output_type": "display_data"
    },
    {
     "data": {
      "image/png": "[encoded data removed]",
      "text/plain": [
       "<Figure size 800x500 with 1 Axes>"
      ]
     },
     "metadata": {},
     "output_type": "display_data"
    }
   ],
   "source": [
    "# Filtrar datos por época\n",
    "df_seca = df_epocas[df_epocas[\"Época\"] == \"Seca\"]\n",
    "df_lluvias = df_epocas[df_epocas[\"Época\"] == \"Lluvias\"]\n",
    "\n",
    "# -------------------------------\n",
    "# 🌞 Gráfica temporada seca\n",
    "# -------------------------------\n",
    "plt.figure(figsize=(8, 5))\n",
    "plt.bar(df_seca[\"Año\"], df_seca[\"NDVI_media\"], \n",
    "        yerr=df_seca[\"NDVI_stdDev\"],\n",
    "        color=\"#f1c40f\", alpha=0.8, capsize=4)\n",
    "\n",
    "plt.title(\"NDVI promedio por año (Temporada seca)\", fontsize=14)\n",
    "plt.xlabel(\"Año\", fontsize=12)\n",
    "plt.ylabel(\"NDVI promedio\", fontsize=12)\n",
    "plt.ylim(0, 1)\n",
    "plt.grid(axis='y', linestyle='--', alpha=0.5)\n",
    "\n",
    "# Mostrar gráfico\n",
    "plt.show()\n",
    "\n",
    "# -------------------------------\n",
    "# 🌧️ Gráfica temporada lluvias\n",
    "# -------------------------------\n",
    "plt.figure(figsize=(8, 5))\n",
    "plt.bar(df_lluvias[\"Año\"], df_lluvias[\"NDVI_media\"], \n",
    "        yerr=df_lluvias[\"NDVI_stdDev\"],\n",
    "        color=\"#3498db\", alpha=0.8, capsize=4)\n",
    "\n",
    "plt.title(\"NDVI promedio por año (Temporada de lluvias)\", fontsize=14)\n",
    "plt.xlabel(\"Año\", fontsize=12)\n",
    "plt.ylabel(\"NDVI promedio\", fontsize=12)\n",
    "plt.ylim(0, 1)\n",
    "plt.grid(axis='y', linestyle='--', alpha=0.5)\n",
    "\n",
    "# Mostrar gráfico\n",
    "plt.show()\n"
   ]
  }
 ],
 "metadata": {
  "kernelspec": {
   "display_name": "Python 3",
   "language": "python",
   "name": "python3"
  },
  "language_info": {
   "codemirror_mode": {
    "name": "ipython",
    "version": 3
   },
   "file_extension": ".py",
   "mimetype": "text/x-python",
   "name": "python",
   "nbconvert_exporter": "python",
   "pygments_lexer": "ipython3",
   "version": "3.13.5"
  }
 },
 "nbformat": 4,
 "nbformat_minor": 5
}
