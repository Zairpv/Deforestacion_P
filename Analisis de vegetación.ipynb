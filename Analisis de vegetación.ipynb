{
 "cells": [
  {
   "cell_type": "markdown",
   "id": "e28b48f6",
   "metadata": {},
   "source": [
    "# Mapa temático de deforestación"
   ]
  },
  {
   "cell_type": "markdown",
   "id": "059b2338",
   "metadata": {},
   "source": [
    "# 1. Autenticación de Google Earth Engine\n",
    "\n",
    "Se utiliza la API de Python de GEE para buscar y descargar imágenes del satélite Sentinel-2. \n",
    "`ee`: API de Google Earth Engine para Python, que permite acceder a colecciones de datos satelitales y ejecutar operaciones en la nube.  "
   ]
  },
  {
   "cell_type": "code",
   "execution_count": 2,
   "id": "55801a37",
   "metadata": {},
   "outputs": [],
   "source": [
    "# Importar biblioteca de Google Earth Engine\n",
    "import ee\n",
    "\n",
    "# Autenticación: Esto abre una ventana en el navegador solicitando acceso a cuenta Google\n",
    "ee.Authenticate()  \n",
    "# Inicializar la sesion de Earth Engine\n",
    "ee.Initialize()"
   ]
  },
  {
   "cell_type": "markdown",
   "id": "ff49154c",
   "metadata": {},
   "source": [
    "# 2. Importar paqueterías"
   ]
  },
  {
   "cell_type": "code",
   "execution_count": 3,
   "id": "88ebfda0",
   "metadata": {},
   "outputs": [
    {
     "name": "stderr",
     "output_type": "stream",
     "text": [
      "C:\\Users\\zaira\\AppData\\Local\\Packages\\PythonSoftwareFoundation.Python.3.13_qbz5n2kfra8p0\\LocalCache\\local-packages\\Python313\\site-packages\\geemap\\conversion.py:23: UserWarning: pkg_resources is deprecated as an API. See https://setuptools.pypa.io/en/latest/pkg_resources.html. The pkg_resources package is slated for removal as early as 2025-11-30. Refrain from using this package or pin to Setuptools<81.\n",
      "  import pkg_resources\n"
     ]
    }
   ],
   "source": [
    "import geemap\n",
    "import ee_extra\n",
    "import math\n",
    "import geopandas as gpd\n",
    "import numpy as np\n",
    "import pandas as pd\n",
    "import matplotlib.pyplot as plt\n",
    "from matplotlib.colors import ListedColormap,BoundaryNorm\n",
    "from matplotlib.patches import Patch\n",
    "import rasterio\n",
    "import folium\n",
    "import json\n",
    "import os\n",
    "from shapely.geometry import mapping, Polygon, MultiPolygon"
   ]
  },
  {
   "cell_type": "markdown",
   "id": "9f552149",
   "metadata": {},
   "source": [
    "# 3. Definir polígono de interés\n",
    "\n",
    "En este bloque se establece la ruta local del **polígono de interés (area of interes, AOI)** desde un archivo en formato `.kml` o `.kmz`. \n",
    "\n",
    "✏️ Para trabajar con un nuevo polígono solo requiere reemplazar la ruta de la carpeta de trabajo \n"
   ]
  },
  {
   "cell_type": "code",
   "execution_count": 4,
   "id": "7bb0aee3",
   "metadata": {},
   "outputs": [
    {
     "data": {
      "text/html": [
       "\n",
       "            <style>\n",
       "                .geemap-dark {\n",
       "                    --jp-widgets-color: white;\n",
       "                    --jp-widgets-label-color: white;\n",
       "                    --jp-ui-font-color1: white;\n",
       "                    --jp-layout-color2: #454545;\n",
       "                    background-color: #383838;\n",
       "                }\n",
       "\n",
       "                .geemap-dark .jupyter-button {\n",
       "                    --jp-layout-color3: #383838;\n",
       "                }\n",
       "\n",
       "                .geemap-colab {\n",
       "                    background-color: var(--colab-primary-surface-color, white);\n",
       "                }\n",
       "\n",
       "                .geemap-colab .jupyter-button {\n",
       "                    --jp-layout-color3: var(--colab-primary-surface-color, white);\n",
       "                }\n",
       "            </style>\n",
       "            "
      ],
      "text/plain": [
       "<IPython.core.display.HTML object>"
      ]
     },
     "metadata": {},
     "output_type": "display_data"
    },
    {
     "name": "stdout",
     "output_type": "stream",
     "text": [
      "✅ Polígono cargado correctamente.\n"
     ]
    },
    {
     "data": {
      "application/vnd.jupyter.widget-view+json": {
       "model_id": "da6044595ea641cba77bf95c65d2d024",
       "version_major": 2,
       "version_minor": 0
      },
      "text/plain": [
       "Map(center=[19.481693985330033, -97.87640471671325], controls=(WidgetControl(options=['position', 'transparent…"
      ]
     },
     "execution_count": 4,
     "metadata": {},
     "output_type": "execute_result"
    }
   ],
   "source": [
    "ruta_kml = r\"C:\\Users\\zaira\\OneDrive - Procuraduria Federal de Proteccion al Ambiente\\SIIVDA\\Codigos Phyton\\Deforestacion - Vegetacion\\Cabañas-Terrenate-Tlax_.kml\"\n",
    "\n",
    "# Verificar que el archivo existe\n",
    "if not os.path.exists(ruta_kml):\n",
    "    raise FileNotFoundError(f\"El archivo no fue encontrado: {ruta_kml}\")\n",
    "\n",
    "# Convertir el archivo KML a GeoJSON para cargarlo en Earth Engine\n",
    "gdf = gpd.read_file(ruta_kml, driver='KML')\n",
    "geojson = gdf.geometry[0].__geo_interface__\n",
    "aoi = ee.Geometry(geojson)\n",
    "aoi_feature = ee.Feature(aoi)\n",
    "aoi_fc = ee.FeatureCollection([aoi_feature])\n",
    "print(\"✅ Polígono cargado correctamente.\")\n",
    "\n",
    "\n",
    "# Visualizar el polígono en un mapa interactivo con imagen ESRI de fondo\n",
    "Map = geemap.Map(basemap='Esri.WorldImagery')\n",
    "Map.centerObject(aoi, zoom=16)\n",
    "style = {\n",
    "    'color': 'red',    # Color del contorno\n",
    "    'width': 3,        # Grosor de la línea\n",
    "    'fillColor': '00000000'  # Relleno transparente\n",
    "}\n",
    "Map.addLayer(aoi_fc.style(**style), {}, 'Contorno AOI (Rojo)')\n",
    "Map"
   ]
  },
  {
   "cell_type": "markdown",
   "id": "3f6bba9b",
   "metadata": {},
   "source": [
    "# 4. Estimación de NDVI (Normalized Difference Vegetation Index)\n",
    "\n",
    "El **NDVI** es un índice utilizado para el monitoreo de vegetación\n",
    "\n",
    "## Fórmula NDVI:\n",
    "\n",
    "$$\n",
    "NDVI = \\frac{(NIR - Red)}{(NIR + Red)}\n",
    "$$\n",
    "\n",
    "**Donde:**\n",
    "- *NIR*: Banda infrarroja cercana (Sentinel-2: **B8**)\n",
    "- *Red*: Banda roja (Sentinel-2: **B4**)\n",
    "\n",
    "---\n",
    "\n",
    "## Interpretación general:\n",
    "- **NDVI ≈ +1** → Vegetación densa y saludable 🌿\n",
    "- **NDVI ≈ 0** → Suelos desnudos o áreas sin vegetación 🏜️\n",
    "- **NDVI < 0** → Cuerpos de agua, nubes u objetos no vegetales 🌊☁️\n",
    "\n",
    "\n",
    "## Aplicaciones del NDVI:\n",
    "a) Clasificación de vegetación.  \n",
    "b) Monitoreo ambiental [(Jensen, 2000)](https://doi.org/10.1080/014311600210407).  \n",
    "c) Detección de estrés en cultivos y ecosistemas [(Wang et al., 2022)](https://doi.org/10.1016/j.gecco.2022.e02034).  \n",
    "d) Alerta temprana de plagas y enfermedades [(Spruce et al., 2011)](https://doi.org/10.1016/j.rse.2010.09.013).  \n",
    "e) Manejo de recursos hídricos [(Aguilar et al., 2012)](https://doi.org/10.1016/j.ecolind.2012.04.008).  \n",
    "f) Predicción y monitoreo de incendios forestales [(Charizanos & Demirhan, 2023)](https://doi.org/10.1016/j.ecoinf.2022.101899).\n",
    "\n",
    "\n"
   ]
  },
  {
   "cell_type": "code",
   "execution_count": 5,
   "id": "49476b92",
   "metadata": {},
   "outputs": [
    {
     "data": {
      "text/html": [
       "\n",
       "            <style>\n",
       "                .geemap-dark {\n",
       "                    --jp-widgets-color: white;\n",
       "                    --jp-widgets-label-color: white;\n",
       "                    --jp-ui-font-color1: white;\n",
       "                    --jp-layout-color2: #454545;\n",
       "                    background-color: #383838;\n",
       "                }\n",
       "\n",
       "                .geemap-dark .jupyter-button {\n",
       "                    --jp-layout-color3: #383838;\n",
       "                }\n",
       "\n",
       "                .geemap-colab {\n",
       "                    background-color: var(--colab-primary-surface-color, white);\n",
       "                }\n",
       "\n",
       "                .geemap-colab .jupyter-button {\n",
       "                    --jp-layout-color3: var(--colab-primary-surface-color, white);\n",
       "                }\n",
       "            </style>\n",
       "            "
      ],
      "text/plain": [
       "<IPython.core.display.HTML object>"
      ]
     },
     "metadata": {},
     "output_type": "display_data"
    }
   ],
   "source": [
    "def addNDVI(image):\n",
    "    ndvi = image.normalizedDifference(['B8', 'B4']).rename('NDVI')\n",
    "    return image.addBands(ndvi)"
   ]
  }
 ],
 "metadata": {
  "kernelspec": {
   "display_name": "Python 3",
   "language": "python",
   "name": "python3"
  },
  "language_info": {
   "codemirror_mode": {
    "name": "ipython",
    "version": 3
   },
   "file_extension": ".py",
   "mimetype": "text/x-python",
   "name": "python",
   "nbconvert_exporter": "python",
   "pygments_lexer": "ipython3",
   "version": "3.13.5"
  }
 },
 "nbformat": 4,
 "nbformat_minor": 5
}
